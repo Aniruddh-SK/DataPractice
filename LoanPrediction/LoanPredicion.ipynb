{
 "cells": [
  {
   "cell_type": "code",
   "execution_count": 144,
   "metadata": {
    "collapsed": true
   },
   "outputs": [],
   "source": [
    "import pandas as pd\n",
    "import seaborn as sbs\n",
    "import numpy as np\n",
    "from sklearn.cross_validation import train_test_split\n",
    "from sklearn.linear_model import LogisticRegression\n",
    "import matplotlib.pyplot as plt\n",
    "from sklearn import metrics\n",
    "%matplotlib inline"
   ]
  },
  {
   "cell_type": "code",
   "execution_count": 142,
   "metadata": {
    "collapsed": false
   },
   "outputs": [],
   "source": [
    "data=pd.read_csv('./test.csv')\n",
    "\n",
    "def transform():\n",
    "    data.Loan_Status=data.Loan_Status.map({'N':0,'Y':1})\n",
    "    data.Gender=data.Gender.map({'Male':1,'Female':2})\n",
    "    data.Married=data.Married.map({'Yes':1,'No':0})\n",
    "    data.Education=data.Education.map({'Graduate':1,'Not Graduate':0})\n",
    "    data.Self_Employed=data.Self_Employed.map({'No':0,'yes':1})\n",
    "    data.Dependents=data.Dependents.map({'3+':3,'1':1,'2':2,'0':0})\n",
    "    data.Property_Area=data.Property_Area.map({'Urban':1,'Semiurban':2,'Rural':3})\n",
    "transform()\n",
    "data=data.dropna()\n",
    "data['income']=data['ApplicantIncome']+data['CoapplicantIncome']\n",
    "\n",
    "y=data.Loan_Status\n",
    "x=data.drop(['Loan_ID','Loan_Status','ApplicantIncome','CoapplicantIncome'],axis=1)\n",
    "x_train,x_test,y_train,y_test=train_test_split(x,y,random_state=5)\n",
    "logreg=LogisticRegression()\n",
    "logreg.fit(x_train,y_train)\n",
    "y_pred=logreg.predict(x_test)\n",
    "\n"
   ]
  },
  {
   "cell_type": "code",
   "execution_count": 145,
   "metadata": {
    "collapsed": false
   },
   "outputs": [
    {
     "data": {
      "text/plain": [
       "True     88\n",
       "False    16\n",
       "Name: Loan_Status, dtype: int64"
      ]
     },
     "execution_count": 145,
     "metadata": {},
     "output_type": "execute_result"
    }
   ],
   "source": [
    "(y_test==y_pred).value_counts()"
   ]
  },
  {
   "cell_type": "code",
   "execution_count": null,
   "metadata": {
    "collapsed": true
   },
   "outputs": [],
   "source": []
  }
 ],
 "metadata": {
  "kernelspec": {
   "display_name": "Python 2",
   "language": "python",
   "name": "python2"
  },
  "language_info": {
   "codemirror_mode": {
    "name": "ipython",
    "version": 2
   },
   "file_extension": ".py",
   "mimetype": "text/x-python",
   "name": "python",
   "nbconvert_exporter": "python",
   "pygments_lexer": "ipython2",
   "version": "2.7.12"
  }
 },
 "nbformat": 4,
 "nbformat_minor": 0
}
