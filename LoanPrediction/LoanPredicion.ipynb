{
 "cells": [
  {
   "cell_type": "code",
   "execution_count": 2,
   "metadata": {
    "collapsed": false
   },
   "outputs": [],
   "source": [
    "import pandas as pd\n",
    "import seaborn as sbs\n",
    "import numpy as np\n",
    "from sklearn.cross_validation import train_test_split\n",
    "from sklearn.cross_validation import cross_val_score\n",
    "from sklearn.linear_model import LogisticRegression\n",
    "import matplotlib.pyplot as plt\n",
    "from sklearn import metrics\n",
    "%matplotlib inline"
   ]
  },
  {
   "cell_type": "code",
   "execution_count": 23,
   "metadata": {
    "collapsed": false
   },
   "outputs": [
    {
     "data": {
      "text/plain": [
       "0.80446388684038483"
      ]
     },
     "execution_count": 23,
     "metadata": {},
     "output_type": "execute_result"
    }
   ],
   "source": [
    "data=pd.read_csv('./test.csv')\n",
    "\n",
    "def transform(data):\n",
    "    data.Loan_Status=data.Loan_Status.map({'N':0,'Y':1})\n",
    "    data.Gender=data.Gender.map({'Male':1,'Female':2})\n",
    "    data.Married=data.Married.map({'Yes':1,'No':0})\n",
    "    data.Education=data.Education.map({'Graduate':1,'Not Graduate':0})\n",
    "    data.Self_Employed=data.Self_Employed.map({'No':0,'yes':1})\n",
    "    data.Dependents=data.Dependents.map({'3+':3,'1':1,'2':2,'0':0})\n",
    "    data.Property_Area=data.Property_Area.map({'Urban':1,'Semiurban':2,'Rural':3})\n",
    "    return data\n",
    "data=transform(data)\n",
    "data=data.dropna()\n",
    "data['income']=data['ApplicantIncome']+data['CoapplicantIncome']\n",
    "\n",
    "y=data.Loan_Status\n",
    "x=data.drop(['Loan_ID','Loan_Status','ApplicantIncome','CoapplicantIncome'],axis=1)\n",
    "x_train,x_test,y_train,y_test=train_test_split(x,y,random_state=5)\n",
    "logreg1=LogisticRegression(penalty='l1',C=.1)\n",
    "cross_val_score(logreg1,x,y,scoring='accuracy').mean()\n",
    "\n"
   ]
  },
  {
   "cell_type": "code",
   "execution_count": 6,
   "metadata": {
    "collapsed": false
   },
   "outputs": [
    {
     "data": {
      "text/plain": [
       "True     88\n",
       "False    16\n",
       "Name: Loan_Status, dtype: int64"
      ]
     },
     "execution_count": 6,
     "metadata": {},
     "output_type": "execute_result"
    }
   ],
   "source": [
    "(y_test==y_pred).value_counts()"
   ]
  },
  {
   "cell_type": "code",
   "execution_count": 7,
   "metadata": {
    "collapsed": false
   },
   "outputs": [
    {
     "data": {
      "text/plain": [
       "0.84615384615384615"
      ]
     },
     "execution_count": 7,
     "metadata": {},
     "output_type": "execute_result"
    }
   ],
   "source": [
    "metrics.accuracy_score(y_test,y_pred)"
   ]
  },
  {
   "cell_type": "code",
   "execution_count": 9,
   "metadata": {
    "collapsed": false
   },
   "outputs": [],
   "source": [
    "## model with imputed data but caused less accuracy\n",
    "from sklearn.preprocessing import Imputer"
   ]
  },
  {
   "cell_type": "code",
   "execution_count": 42,
   "metadata": {
    "collapsed": false
   },
   "outputs": [],
   "source": [
    "data2=pd.read_csv('./train.csv')\n",
    "def transform2(data):\n",
    "    #data.Loan_Status=data.Loan_Status.map({'N':0,'Y':1})\n",
    "    data.Gender=data.Gender.map({'Male':1,'Female':2})\n",
    "    data.Married=data.Married.map({'Yes':1,'No':0})\n",
    "    data.Education=data.Education.map({'Graduate':1,'Not Graduate':0})\n",
    "    data.Self_Employed=data.Self_Employed.map({'No':0,'yes':1})\n",
    "    data.Dependents=data.Dependents.map({'3+':3,'1':1,'2':2,'0':0})\n",
    "    data.Property_Area=data.Property_Area.map({'Urban':1,'Semiurban':2,'Rural':3})\n",
    "    return data\n",
    "data2=transform2(data2)\n",
    "loanid=data2['Loan_ID']\n",
    "data2=data2.drop(['Loan_ID'],axis=1)\n",
    "def myimputer(data):\n",
    "    columns=data.columns\n",
    "    imp=Imputer(missing_values='NaN',strategy='most_frequent',axis=0)\n",
    "    data=imp.fit_transform(data)\n",
    "    data=pd.DataFrame(data,columns=columns)\n",
    "    return data\n",
    "imputedata=myimputer(data2)\n",
    "imputedata['income']=imputedata['ApplicantIncome']+imputedata['CoapplicantIncome']\n",
    "imputedata=imputedata.drop(['ApplicantIncome','CoapplicantIncome'],axis=1)\n",
    "imputedatapred=logreg1.predict(imputedata)\n",
    "\n",
    "final=pd.DataFrame({'Loan_ID':loanid,'Loan_Status':imputedatapred})\n",
    "final.Loan_Status=final.Loan_Status.map({1:'Y',0:'N'})\n",
    "final.to_csv('sample_submission.csv',mode='w',index=False)"
   ]
  },
  {
   "cell_type": "code",
   "execution_count": null,
   "metadata": {
    "collapsed": false
   },
   "outputs": [],
   "source": []
  },
  {
   "cell_type": "code",
   "execution_count": 19,
   "metadata": {
    "collapsed": false
   },
   "outputs": [
    {
     "data": {
      "text/plain": [
       "0.81168831168831168"
      ]
     },
     "execution_count": 19,
     "metadata": {},
     "output_type": "execute_result"
    }
   ],
   "source": []
  },
  {
   "cell_type": "code",
   "execution_count": null,
   "metadata": {
    "collapsed": true
   },
   "outputs": [],
   "source": []
  },
  {
   "cell_type": "code",
   "execution_count": null,
   "metadata": {
    "collapsed": false
   },
   "outputs": [],
   "source": []
  },
  {
   "cell_type": "code",
   "execution_count": 1,
   "metadata": {
    "collapsed": false
   },
   "outputs": [
    {
     "ename": "NameError",
     "evalue": "name 'metrics' is not defined",
     "output_type": "error",
     "traceback": [
      "\u001b[0;31m---------------------------------------------------------------------------\u001b[0m",
      "\u001b[0;31mNameError\u001b[0m                                 Traceback (most recent call last)",
      "\u001b[0;32m<ipython-input-1-84b9ece1e998>\u001b[0m in \u001b[0;36m<module>\u001b[0;34m()\u001b[0m\n\u001b[0;32m----> 1\u001b[0;31m \u001b[0mmetrics\u001b[0m\u001b[0;34m.\u001b[0m\u001b[0maccuracy_score\u001b[0m\u001b[0;34m(\u001b[0m\u001b[0my_test\u001b[0m\u001b[0;34m,\u001b[0m\u001b[0my_pred\u001b[0m\u001b[0;34m)\u001b[0m\u001b[0;34m\u001b[0m\u001b[0m\n\u001b[0m",
      "\u001b[0;31mNameError\u001b[0m: name 'metrics' is not defined"
     ]
    }
   ],
   "source": []
  },
  {
   "cell_type": "code",
   "execution_count": null,
   "metadata": {
    "collapsed": true
   },
   "outputs": [],
   "source": [
    "`"
   ]
  }
 ],
 "metadata": {
  "kernelspec": {
   "display_name": "Python 2",
   "language": "python",
   "name": "python2"
  },
  "language_info": {
   "codemirror_mode": {
    "name": "ipython",
    "version": 2
   },
   "file_extension": ".py",
   "mimetype": "text/x-python",
   "name": "python",
   "nbconvert_exporter": "python",
   "pygments_lexer": "ipython2",
   "version": "2.7.12"
  }
 },
 "nbformat": 4,
 "nbformat_minor": 0
}
