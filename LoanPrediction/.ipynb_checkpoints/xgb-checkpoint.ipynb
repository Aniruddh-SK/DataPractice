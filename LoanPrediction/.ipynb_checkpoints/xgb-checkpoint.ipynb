{
 "cells": [
  {
   "cell_type": "code",
   "execution_count": 2,
   "metadata": {
    "collapsed": false
   },
   "outputs": [],
   "source": [
    "import pandas as pd\n",
    "import numpy as np\n",
    "import xgboost as xgb\n",
    "from xgboost.sklearn import XGBClassifier\n",
    "from sklearn import cross_validation,metrics\n",
    "from sklearn.grid_search import GridSearchCV\n",
    "import matplotlib.pylab as plt\n",
    "%matplotlib inline\n",
    "from matplotlib.pylab import rcParams\n",
    "rcParams['figure.figsize'] = 12, 4\n",
    "from sklearn.preprocessing import Imputer\n",
    "from sklearn.cross_validation import train_test_split\n",
    "from sklearn.metrics import accuracy_score"
   ]
  },
  {
   "cell_type": "code",
   "execution_count": 2,
   "metadata": {
    "collapsed": false
   },
   "outputs": [],
   "source": []
  },
  {
   "cell_type": "code",
   "execution_count": 3,
   "metadata": {
    "collapsed": false
   },
   "outputs": [],
   "source": [
    "data=pd.read_csv('./test.csv')\n",
    "\n",
    "def transform(data):\n",
    "    data.Loan_Status=data.Loan_Status.map({'N':0,'Y':1})\n",
    "    data.Gender=data.Gender.map({'Male':1,'Female':2})\n",
    "    data.Married=data.Married.map({'Yes':1,'No':0})\n",
    "    data.Education=data.Education.map({'Graduate':1,'Not Graduate':0})\n",
    "    data.Self_Employed=data.Self_Employed.map({'No':0,'yes':1})\n",
    "    data.Dependents=data.Dependents.map({'3+':3,'1':1,'2':2,'0':0})\n",
    "    data.Property_Area=data.Property_Area.map({'Urban':1,'Semiurban':2,'Rural':3})\n",
    "    return data\n",
    "data=transform(data)\n",
    "def myimputer(data):\n",
    "    columns=data.columns\n",
    "    imp=Imputer(missing_values='NaN',strategy='most_frequent',axis=0)\n",
    "    data=imp.fit_transform(data)\n",
    "    data=pd.DataFrame(data,columns=columns)\n",
    "    return data\n",
    "#loanid=data['Loan_ID']\n",
    "data=data.drop(['Loan_ID'],axis=1)\n",
    "data=myimputer(data)\n",
    "data['income']=data['ApplicantIncome']+data['CoapplicantIncome']\n",
    "\n",
    "data['income']=data['ApplicantIncome']+data['CoapplicantIncome']\n",
    "\n",
    "\n",
    "data=data.drop(['ApplicantIncome','CoapplicantIncome'],axis=1)"
   ]
  },
  {
   "cell_type": "code",
   "execution_count": 4,
   "metadata": {
    "collapsed": false
   },
   "outputs": [
    {
     "data": {
      "text/html": [
       "<div>\n",
       "<table border=\"1\" class=\"dataframe\">\n",
       "  <thead>\n",
       "    <tr style=\"text-align: right;\">\n",
       "      <th></th>\n",
       "      <th>Gender</th>\n",
       "      <th>Married</th>\n",
       "      <th>Dependents</th>\n",
       "      <th>Education</th>\n",
       "      <th>Self_Employed</th>\n",
       "      <th>LoanAmount</th>\n",
       "      <th>Loan_Amount_Term</th>\n",
       "      <th>Credit_History</th>\n",
       "      <th>Property_Area</th>\n",
       "      <th>Loan_Status</th>\n",
       "      <th>income</th>\n",
       "    </tr>\n",
       "  </thead>\n",
       "  <tbody>\n",
       "    <tr>\n",
       "      <th>0</th>\n",
       "      <td>1.0</td>\n",
       "      <td>0.0</td>\n",
       "      <td>0.0</td>\n",
       "      <td>1.0</td>\n",
       "      <td>0.0</td>\n",
       "      <td>120.0</td>\n",
       "      <td>360.0</td>\n",
       "      <td>1.0</td>\n",
       "      <td>1.0</td>\n",
       "      <td>1.0</td>\n",
       "      <td>5849.0</td>\n",
       "    </tr>\n",
       "    <tr>\n",
       "      <th>1</th>\n",
       "      <td>1.0</td>\n",
       "      <td>1.0</td>\n",
       "      <td>1.0</td>\n",
       "      <td>1.0</td>\n",
       "      <td>0.0</td>\n",
       "      <td>128.0</td>\n",
       "      <td>360.0</td>\n",
       "      <td>1.0</td>\n",
       "      <td>3.0</td>\n",
       "      <td>0.0</td>\n",
       "      <td>6091.0</td>\n",
       "    </tr>\n",
       "    <tr>\n",
       "      <th>2</th>\n",
       "      <td>1.0</td>\n",
       "      <td>1.0</td>\n",
       "      <td>0.0</td>\n",
       "      <td>1.0</td>\n",
       "      <td>0.0</td>\n",
       "      <td>66.0</td>\n",
       "      <td>360.0</td>\n",
       "      <td>1.0</td>\n",
       "      <td>1.0</td>\n",
       "      <td>1.0</td>\n",
       "      <td>3000.0</td>\n",
       "    </tr>\n",
       "    <tr>\n",
       "      <th>3</th>\n",
       "      <td>1.0</td>\n",
       "      <td>1.0</td>\n",
       "      <td>0.0</td>\n",
       "      <td>0.0</td>\n",
       "      <td>0.0</td>\n",
       "      <td>120.0</td>\n",
       "      <td>360.0</td>\n",
       "      <td>1.0</td>\n",
       "      <td>1.0</td>\n",
       "      <td>1.0</td>\n",
       "      <td>4941.0</td>\n",
       "    </tr>\n",
       "    <tr>\n",
       "      <th>4</th>\n",
       "      <td>1.0</td>\n",
       "      <td>0.0</td>\n",
       "      <td>0.0</td>\n",
       "      <td>1.0</td>\n",
       "      <td>0.0</td>\n",
       "      <td>141.0</td>\n",
       "      <td>360.0</td>\n",
       "      <td>1.0</td>\n",
       "      <td>1.0</td>\n",
       "      <td>1.0</td>\n",
       "      <td>6000.0</td>\n",
       "    </tr>\n",
       "  </tbody>\n",
       "</table>\n",
       "</div>"
      ],
      "text/plain": [
       "   Gender  Married  Dependents  Education  Self_Employed  LoanAmount  \\\n",
       "0     1.0      0.0         0.0        1.0            0.0       120.0   \n",
       "1     1.0      1.0         1.0        1.0            0.0       128.0   \n",
       "2     1.0      1.0         0.0        1.0            0.0        66.0   \n",
       "3     1.0      1.0         0.0        0.0            0.0       120.0   \n",
       "4     1.0      0.0         0.0        1.0            0.0       141.0   \n",
       "\n",
       "   Loan_Amount_Term  Credit_History  Property_Area  Loan_Status  income  \n",
       "0             360.0             1.0            1.0          1.0  5849.0  \n",
       "1             360.0             1.0            3.0          0.0  6091.0  \n",
       "2             360.0             1.0            1.0          1.0  3000.0  \n",
       "3             360.0             1.0            1.0          1.0  4941.0  \n",
       "4             360.0             1.0            1.0          1.0  6000.0  "
      ]
     },
     "execution_count": 4,
     "metadata": {},
     "output_type": "execute_result"
    }
   ],
   "source": [
    "data.head()"
   ]
  },
  {
   "cell_type": "code",
   "execution_count": 5,
   "metadata": {
    "collapsed": true
   },
   "outputs": [],
   "source": [
    "predictor=[x for x in data.columns if x not in ['Loan_ID','Loan_Status']]"
   ]
  },
  {
   "cell_type": "code",
   "execution_count": 16,
   "metadata": {
    "collapsed": false
   },
   "outputs": [
    {
     "data": {
      "text/plain": [
       "0.74675324675324672"
      ]
     },
     "execution_count": 16,
     "metadata": {},
     "output_type": "execute_result"
    }
   ],
   "source": [
    "xgb1 = XGBClassifier(\n",
    " learning_rate =0.1,\n",
    " n_estimators=1000,\n",
    " max_depth=5,\n",
    " min_child_weight=1,\n",
    " gamma=0,\n",
    " subsample=0.8,\n",
    " colsample_bytree=0.8,\n",
    " objective= 'binary:logistic',\n",
    " nthread=4,\n",
    " scale_pos_weight=1,\n",
    " seed=27)\n",
    "x_train,x_test,y_train,y_test=train_test_split(data[predictor],data['Loan_Status'])\n",
    "model=xgb1.fit(x_train,y_train)\n",
    "result=model.predict(x_test)\n",
    "accuracy_score(result,y_test)"
   ]
  },
  {
   "cell_type": "code",
   "execution_count": 17,
   "metadata": {
    "collapsed": false
   },
   "outputs": [
    {
     "data": {
      "text/plain": [
       "([mean: 0.77391, std: 0.02046, params: {'max_depth': 3, 'min_child_weight': 1},\n",
       "  mean: 0.76957, std: 0.02412, params: {'max_depth': 3, 'min_child_weight': 3},\n",
       "  mean: 0.76957, std: 0.01993, params: {'max_depth': 3, 'min_child_weight': 5},\n",
       "  mean: 0.77826, std: 0.01969, params: {'max_depth': 5, 'min_child_weight': 1},\n",
       "  mean: 0.76522, std: 0.02983, params: {'max_depth': 5, 'min_child_weight': 3},\n",
       "  mean: 0.76304, std: 0.02412, params: {'max_depth': 5, 'min_child_weight': 5},\n",
       "  mean: 0.76957, std: 0.02267, params: {'max_depth': 7, 'min_child_weight': 1},\n",
       "  mean: 0.76087, std: 0.02936, params: {'max_depth': 7, 'min_child_weight': 3},\n",
       "  mean: 0.75652, std: 0.02412, params: {'max_depth': 7, 'min_child_weight': 5},\n",
       "  mean: 0.77609, std: 0.01740, params: {'max_depth': 9, 'min_child_weight': 1},\n",
       "  mean: 0.76304, std: 0.02679, params: {'max_depth': 9, 'min_child_weight': 3},\n",
       "  mean: 0.75652, std: 0.02412, params: {'max_depth': 9, 'min_child_weight': 5}],\n",
       " {'max_depth': 5, 'min_child_weight': 1},\n",
       " 0.77826086956521734)"
      ]
     },
     "execution_count": 17,
     "metadata": {},
     "output_type": "execute_result"
    }
   ],
   "source": [
    "param_test1 = {\n",
    " 'max_depth':range(3,10,2),\n",
    " 'min_child_weight':range(1,6,2)\n",
    "}\n",
    "gsearch=GridSearchCV(estimator=xgb1,param_grid=param_test1,scoring='accuracy')\n",
    "gsearch.fit(x_train,y_train)\n",
    "gsearch.grid_scores_, gsearch.best_params_, gsearch.best_score_"
   ]
  },
  {
   "cell_type": "code",
   "execution_count": 20,
   "metadata": {
    "collapsed": false
   },
   "outputs": [
    {
     "data": {
      "text/plain": [
       "0.75324675324675328"
      ]
     },
     "execution_count": 20,
     "metadata": {},
     "output_type": "execute_result"
    }
   ],
   "source": [
    "xgb1 = XGBClassifier(\n",
    " learning_rate =0.1,\n",
    " n_estimators=1000,\n",
    " max_depth=3,\n",
    " min_child_weight=1,\n",
    " gamma=0,\n",
    " subsample=0.8,\n",
    " colsample_bytree=0.8,\n",
    " objective= 'binary:logistic',\n",
    " nthread=4,\n",
    " scale_pos_weight=1,\n",
    " seed=27)\n",
    "model=xgb1.fit(x_train,y_train)\n",
    "result=model.predict(x_test)\n",
    "accuracy_score(result,y_test)"
   ]
  },
  {
   "cell_type": "code",
   "execution_count": 21,
   "metadata": {
    "collapsed": false
   },
   "outputs": [
    {
     "data": {
      "text/plain": [
       "([mean: 0.77174, std: 0.00960, params: {'min_child_weight': 6},\n",
       "  mean: 0.75217, std: 0.00599, params: {'min_child_weight': 8},\n",
       "  mean: 0.72174, std: 0.03458, params: {'min_child_weight': 10},\n",
       "  mean: 0.67391, std: 0.03257, params: {'min_child_weight': 12}],\n",
       " {'min_child_weight': 6},\n",
       " 0.77173913043478259)"
      ]
     },
     "execution_count": 21,
     "metadata": {},
     "output_type": "execute_result"
    }
   ],
   "source": [
    "param_test2b = {\n",
    " 'min_child_weight':[6,8,10,12]\n",
    "}\n",
    "gsearch=GridSearchCV(estimator=XGBClassifier(\n",
    " learning_rate =0.1,\n",
    " n_estimators=1000,\n",
    " max_depth=3,\n",
    " min_child_weight=1,\n",
    " gamma=0,\n",
    " subsample=0.8,\n",
    " colsample_bytree=0.8,\n",
    " objective= 'binary:logistic',\n",
    " nthread=4,\n",
    " scale_pos_weight=1,\n",
    " seed=27),param_grid=param_test2b,scoring='accuracy')\n",
    "gsearch.fit(x_train,y_train)\n",
    "gsearch.grid_scores_, gsearch.best_params_, gsearch.best_score_"
   ]
  },
  {
   "cell_type": "code",
   "execution_count": 23,
   "metadata": {
    "collapsed": false
   },
   "outputs": [
    {
     "data": {
      "text/plain": [
       "0.74675324675324672"
      ]
     },
     "execution_count": 23,
     "metadata": {},
     "output_type": "execute_result"
    }
   ],
   "source": [
    "xgb1 = XGBClassifier(\n",
    " learning_rate =0.1,\n",
    " n_estimators=1000,\n",
    " max_depth=5,\n",
    " min_child_weight=6,\n",
    " gamma=0,\n",
    " subsample=0.8,\n",
    " colsample_bytree=0.8,\n",
    " objective= 'binary:logistic',\n",
    " nthread=4,\n",
    " scale_pos_weight=1,\n",
    " seed=27)\n",
    "model=xgb1.fit(x_train,y_train)\n",
    "result=model.predict(x_test)\n",
    "accuracy_score(result,y_test)"
   ]
  },
  {
   "cell_type": "code",
   "execution_count": 24,
   "metadata": {
    "collapsed": false
   },
   "outputs": [
    {
     "data": {
      "text/plain": [
       "([mean: 0.77391, std: 0.02046, params: {'gamma': 0.0},\n",
       "  mean: 0.77609, std: 0.02783, params: {'gamma': 0.1},\n",
       "  mean: 0.78043, std: 0.02496, params: {'gamma': 0.2},\n",
       "  mean: 0.78261, std: 0.02658, params: {'gamma': 0.3},\n",
       "  mean: 0.77391, std: 0.02543, params: {'gamma': 0.4}],\n",
       " {'gamma': 0.3},\n",
       " 0.78260869565217395)"
      ]
     },
     "execution_count": 24,
     "metadata": {},
     "output_type": "execute_result"
    }
   ],
   "source": [
    "param_test3 = {\n",
    " 'gamma':[i/10.0 for i in range(0,5)]\n",
    "}\n",
    "gsearch=GridSearchCV(estimator=XGBClassifier(\n",
    " learning_rate =0.1,\n",
    " n_estimators=1000,\n",
    " max_depth=3,\n",
    " min_child_weight=1,\n",
    " gamma=0,\n",
    " subsample=0.8,\n",
    " colsample_bytree=0.8,\n",
    " objective= 'binary:logistic',\n",
    " nthread=4,\n",
    " scale_pos_weight=1,\n",
    " seed=27),param_grid=param_test3,scoring='accuracy')\n",
    "gsearch.fit(x_train,y_train)\n",
    "gsearch.grid_scores_, gsearch.best_params_, gsearch.best_score_"
   ]
  },
  {
   "cell_type": "code",
   "execution_count": 29,
   "metadata": {
    "collapsed": false
   },
   "outputs": [
    {
     "data": {
      "text/plain": [
       "0.74675324675324672"
      ]
     },
     "execution_count": 29,
     "metadata": {},
     "output_type": "execute_result"
    }
   ],
   "source": [
    "xgb1 = XGBClassifier(\n",
    " learning_rate =0.1,\n",
    " n_estimators=1000,\n",
    " max_depth=8,\n",
    " min_child_weight=6,\n",
    " gamma=0.3,\n",
    " subsample=0.8,\n",
    " colsample_bytree=0.8,\n",
    " objective= 'binary:logistic',\n",
    " nthread=4,\n",
    " scale_pos_weight=1,\n",
    " seed=27)\n",
    "model=xgb1.fit(x_train,y_train)\n",
    "result=model.predict(x_test)\n",
    "accuracy_score(result,y_test)"
   ]
  },
  {
   "cell_type": "code",
   "execution_count": 30,
   "metadata": {
    "collapsed": false
   },
   "outputs": [
    {
     "data": {
      "text/plain": [
       "([mean: 0.77391, std: 0.01132, params: {'subsample': 0.6, 'colsample_bytree': 0.6},\n",
       "  mean: 0.78043, std: 0.02204, params: {'subsample': 0.7, 'colsample_bytree': 0.6},\n",
       "  mean: 0.77826, std: 0.01455, params: {'subsample': 0.8, 'colsample_bytree': 0.6},\n",
       "  mean: 0.78043, std: 0.02542, params: {'subsample': 0.9, 'colsample_bytree': 0.6},\n",
       "  mean: 0.76522, std: 0.02807, params: {'subsample': 0.6, 'colsample_bytree': 0.7},\n",
       "  mean: 0.77609, std: 0.01756, params: {'subsample': 0.7, 'colsample_bytree': 0.7},\n",
       "  mean: 0.77826, std: 0.02364, params: {'subsample': 0.8, 'colsample_bytree': 0.7},\n",
       "  mean: 0.78261, std: 0.01739, params: {'subsample': 0.9, 'colsample_bytree': 0.7},\n",
       "  mean: 0.76957, std: 0.01397, params: {'subsample': 0.6, 'colsample_bytree': 0.8},\n",
       "  mean: 0.77609, std: 0.03113, params: {'subsample': 0.7, 'colsample_bytree': 0.8},\n",
       "  mean: 0.77391, std: 0.02046, params: {'subsample': 0.8, 'colsample_bytree': 0.8},\n",
       "  mean: 0.78913, std: 0.02658, params: {'subsample': 0.9, 'colsample_bytree': 0.8},\n",
       "  mean: 0.77826, std: 0.03373, params: {'subsample': 0.6, 'colsample_bytree': 0.9},\n",
       "  mean: 0.75870, std: 0.02367, params: {'subsample': 0.7, 'colsample_bytree': 0.9},\n",
       "  mean: 0.77826, std: 0.02352, params: {'subsample': 0.8, 'colsample_bytree': 0.9},\n",
       "  mean: 0.78913, std: 0.03110, params: {'subsample': 0.9, 'colsample_bytree': 0.9}],\n",
       " {'colsample_bytree': 0.8, 'subsample': 0.9},\n",
       " 0.78913043478260869)"
      ]
     },
     "execution_count": 30,
     "metadata": {},
     "output_type": "execute_result"
    }
   ],
   "source": [
    "param_test4 = {\n",
    " 'subsample':[i/10.0 for i in range(6,10)],\n",
    " 'colsample_bytree':[i/10.0 for i in range(6,10)]\n",
    "}\n",
    "gsearch=GridSearchCV(estimator=XGBClassifier(\n",
    " learning_rate =0.1,\n",
    " n_estimators=1000,\n",
    " max_depth=3,\n",
    " min_child_weight=1,\n",
    " gamma=0,\n",
    " subsample=0.8,\n",
    " colsample_bytree=0.8,\n",
    " objective= 'binary:logistic',\n",
    " nthread=4,\n",
    " scale_pos_weight=1,\n",
    " seed=27),param_grid=param_test4,scoring='accuracy')\n",
    "gsearch.fit(x_train,y_train)\n",
    "gsearch.grid_scores_, gsearch.best_params_, gsearch.best_score_"
   ]
  },
  {
   "cell_type": "code",
   "execution_count": 33,
   "metadata": {
    "collapsed": false
   },
   "outputs": [
    {
     "data": {
      "text/plain": [
       "0.74675324675324672"
      ]
     },
     "execution_count": 33,
     "metadata": {},
     "output_type": "execute_result"
    }
   ],
   "source": [
    "xgb1 = XGBClassifier(\n",
    " learning_rate =0.1,\n",
    " n_estimators=1000,\n",
    " max_depth=8,\n",
    " min_child_weight=6,\n",
    " gamma=0.3,\n",
    " subsample=0.9,\n",
    " colsample_bytree=0.8,\n",
    " objective= 'binary:logistic',\n",
    " nthread=4,\n",
    " scale_pos_weight=1,\n",
    " seed=27)\n",
    "model=xgb1.fit(x_train,y_train)\n",
    "result=model.predict(x_test)\n",
    "accuracy_score(result,y_test)"
   ]
  },
  {
   "cell_type": "code",
   "execution_count": 34,
   "metadata": {
    "collapsed": false
   },
   "outputs": [
    {
     "data": {
      "text/plain": [
       "([mean: 0.77391, std: 0.02046, params: {'reg_alpha': 1e-05},\n",
       "  mean: 0.77609, std: 0.02265, params: {'reg_alpha': 0.01},\n",
       "  mean: 0.78043, std: 0.02046, params: {'reg_alpha': 0.1},\n",
       "  mean: 0.78696, std: 0.02542, params: {'reg_alpha': 1},\n",
       "  mean: 0.32826, std: 0.00206, params: {'reg_alpha': 100}],\n",
       " {'reg_alpha': 1},\n",
       " 0.78695652173913044)"
      ]
     },
     "execution_count": 34,
     "metadata": {},
     "output_type": "execute_result"
    }
   ],
   "source": [
    "param_test6 = {\n",
    " 'reg_alpha':[1e-5, 1e-2, 0.1, 1, 100]\n",
    "}\n",
    "gsearch=GridSearchCV(estimator=XGBClassifier(\n",
    " learning_rate =0.1,\n",
    " n_estimators=1000,\n",
    " max_depth=3,\n",
    " min_child_weight=1,\n",
    " gamma=0,\n",
    " subsample=0.8,\n",
    " colsample_bytree=0.8,\n",
    " objective= 'binary:logistic',\n",
    " nthread=4,\n",
    " scale_pos_weight=1,\n",
    " seed=27),param_grid=param_test6,scoring='accuracy')\n",
    "gsearch.fit(x_train,y_train)\n",
    "gsearch.grid_scores_, gsearch.best_params_, gsearch.best_score_"
   ]
  },
  {
   "cell_type": "code",
   "execution_count": 35,
   "metadata": {
    "collapsed": false
   },
   "outputs": [
    {
     "data": {
      "text/plain": [
       "([mean: 0.77391, std: 0.02046, params: {'reg_alpha': 0},\n",
       "  mean: 0.77391, std: 0.02060, params: {'reg_alpha': 0.001},\n",
       "  mean: 0.77174, std: 0.01971, params: {'reg_alpha': 0.005},\n",
       "  mean: 0.77609, std: 0.02265, params: {'reg_alpha': 0.01},\n",
       "  mean: 0.77391, std: 0.02564, params: {'reg_alpha': 0.05}],\n",
       " {'reg_alpha': 0.01},\n",
       " 0.77608695652173909)"
      ]
     },
     "execution_count": 35,
     "metadata": {},
     "output_type": "execute_result"
    }
   ],
   "source": [
    "param_test6 = {\n",
    " 'reg_alpha':[0, 0.001, 0.005, 0.01, 0.05]\n",
    "}\n",
    "gsearch=GridSearchCV(estimator=XGBClassifier(\n",
    " learning_rate =0.1,\n",
    " n_estimators=1000,\n",
    " max_depth=3,\n",
    " min_child_weight=1,\n",
    " gamma=0,\n",
    " subsample=0.8,\n",
    " colsample_bytree=0.8,\n",
    " objective= 'binary:logistic',\n",
    " nthread=4,\n",
    " scale_pos_weight=1,\n",
    " seed=27),param_grid=param_test6,scoring='accuracy')\n",
    "gsearch.fit(x_train,y_train)\n",
    "gsearch.grid_scores_, gsearch.best_params_, gsearch.best_score_"
   ]
  },
  {
   "cell_type": "code",
   "execution_count": 38,
   "metadata": {
    "collapsed": false
   },
   "outputs": [
    {
     "data": {
      "text/plain": [
       "0.77922077922077926"
      ]
     },
     "execution_count": 38,
     "metadata": {},
     "output_type": "execute_result"
    }
   ],
   "source": [
    "xgb1 = XGBClassifier(\n",
    " learning_rate =0.01,\n",
    " n_estimators=1000,\n",
    " max_depth=8,\n",
    " min_child_weight=6,\n",
    " gamma=0.3,\n",
    " subsample=0.9,\n",
    " colsample_bytree=0.8,\n",
    " objective= 'binary:logistic',\n",
    " nthread=4,\n",
    " scale_pos_weight=1,\n",
    " seed=27,\n",
    " reg_alpha=1)\n",
    "model=xgb1.fit(x_train,y_train)\n",
    "result=model.predict(x_test)\n",
    "accuracy_score(result,y_test)"
   ]
  },
  {
   "cell_type": "code",
   "execution_count": null,
   "metadata": {
    "collapsed": true
   },
   "outputs": [],
   "source": []
  }
 ],
 "metadata": {
  "kernelspec": {
   "display_name": "Python 2",
   "language": "python",
   "name": "python2"
  },
  "language_info": {
   "codemirror_mode": {
    "name": "ipython",
    "version": 2
   },
   "file_extension": ".py",
   "mimetype": "text/x-python",
   "name": "python",
   "nbconvert_exporter": "python",
   "pygments_lexer": "ipython2",
   "version": "2.7.12"
  }
 },
 "nbformat": 4,
 "nbformat_minor": 0
}
